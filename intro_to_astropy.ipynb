{
 "cells": [
  {
   "cell_type": "markdown",
   "metadata": {},
   "source": [
    "![astropy logo](http://astropy.readthedocs.org/en/stable/_images/astropy_banner.svg)\n",
    "\n",
    "# Introduction to [`astropy`](http://astropy.readthedocs.org/en/stable/)\n",
    "\n",
    "with [Brett Morris](http://staff.washington.edu/bmmorris/)\n",
    "\n",
    "**Dependencies**: astropy, astroquery, astroplan\n",
    "\n",
    "### Outline\n",
    "1. `astropy.units`\n",
    "2. `astropy.time`\n",
    "3. `astropy.coordinates`\n",
    "4. `astropy.cosmology`\n",
    "5. `astropy.table`\n",
    "5. `astropy`-affiliated packages: `astroquery` & `astroplan`\n",
    "6. `astropy.io.fits`\n",
    "7. `astropy.io.ascii`\n",
    "8. Exercises\n",
    "\n",
    "*** \n",
    " \n",
    "## 1) [`astropy.units`](http://astropy.readthedocs.org/en/latest/units/): Problem sets are about to get easier\n",
    "\n",
    "One of the modules most central to `astropy` is the `units` module, which will save you lots of time. "
   ]
  },
  {
   "cell_type": "code",
   "execution_count": 1,
   "metadata": {
    "collapsed": false
   },
   "outputs": [
    {
     "data": {
      "text/latex": [
       "$1.778 \\; \\mathrm{m}$"
      ],
      "text/plain": [
       "<Quantity 1.778 m>"
      ]
     },
     "execution_count": 1,
     "metadata": {},
     "output_type": "execute_result"
    }
   ],
   "source": [
    "import astropy.units as u\n",
    "import numpy as np\n",
    "\n",
    "height = u.Quantity(1.778, unit=u.meter)\n",
    "# or equivalently:\n",
    "height = 1.778*u.m\n",
    "\n",
    "height"
   ]
  },
  {
   "cell_type": "markdown",
   "metadata": {},
   "source": [
    "If you're self-abusive, imperial units are supported:"
   ]
  },
  {
   "cell_type": "code",
   "execution_count": 2,
   "metadata": {
    "collapsed": false
   },
   "outputs": [
    {
     "data": {
      "text/latex": [
       "$5.8333333 \\; \\mathrm{ft}$"
      ],
      "text/plain": [
       "<Quantity 5.833333333333333 ft>"
      ]
     },
     "execution_count": 2,
     "metadata": {},
     "output_type": "execute_result"
    }
   ],
   "source": [
    "from astropy.units.imperial import foot\n",
    "height.to(foot)"
   ]
  },
  {
   "cell_type": "markdown",
   "metadata": {},
   "source": [
    "What is the light-travel time across one Brett? ($\\Delta t = \\Delta x / c$)"
   ]
  },
  {
   "cell_type": "code",
   "execution_count": 102,
   "metadata": {
    "collapsed": false
   },
   "outputs": [
    {
     "data": {
      "text/latex": [
       "$5.9307696 \\times 10^{-9} \\; \\mathrm{s}$"
      ],
      "text/plain": [
       "<Quantity 5.930769612623144e-09 s>"
      ]
     },
     "execution_count": 102,
     "metadata": {},
     "output_type": "execute_result"
    }
   ],
   "source": [
    "from astropy.constants import c\n",
    "\n",
    "dt = height/c\n",
    "dt"
   ]
  },
  {
   "cell_type": "markdown",
   "metadata": {},
   "source": [
    "Metric prefixes accepted (try `M` for mega, `p` for pico, etc.)"
   ]
  },
  {
   "cell_type": "code",
   "execution_count": 103,
   "metadata": {
    "collapsed": false
   },
   "outputs": [
    {
     "data": {
      "text/latex": [
       "$5.9307696 \\; \\mathrm{ns}$"
      ],
      "text/plain": [
       "<Quantity 5.930769612623143 ns>"
      ]
     },
     "execution_count": 103,
     "metadata": {},
     "output_type": "execute_result"
    }
   ],
   "source": [
    "dt.to(u.ns)"
   ]
  },
  {
   "cell_type": "markdown",
   "metadata": {},
   "source": [
    "A quantity has two attributes: "
   ]
  },
  {
   "cell_type": "code",
   "execution_count": 104,
   "metadata": {
    "collapsed": false
   },
   "outputs": [
    {
     "data": {
      "text/plain": [
       "(5.930769612623144e-09, Unit(\"s\"))"
      ]
     },
     "execution_count": 104,
     "metadata": {},
     "output_type": "execute_result"
    }
   ],
   "source": [
    "dt.value, dt.unit"
   ]
  },
  {
   "cell_type": "markdown",
   "metadata": {},
   "source": [
    "Vector quantities are where it's at: "
   ]
  },
  {
   "cell_type": "code",
   "execution_count": 110,
   "metadata": {
    "collapsed": false
   },
   "outputs": [
    {
     "data": {
      "text/latex": [
       "$[1.229895 \\times 10^{16},~1.4191096 \\times 10^{16},~1.6083242 \\times 10^{16}] \\; \\mathrm{m}$"
      ],
      "text/plain": [
       "<Quantity [  1.22989496e+16,  1.41910957e+16,  1.60832418e+16] m>"
      ]
     },
     "execution_count": 110,
     "metadata": {},
     "output_type": "execute_result"
    }
   ],
   "source": [
    "distances = u.Quantity([1.3, 1.5, 1.7], unit=u.lightyear)\n",
    "\n",
    "distances.to(u.m)"
   ]
  },
  {
   "cell_type": "markdown",
   "metadata": {},
   "source": [
    "Quantities are either Python built-in types (float, int) or numpy arrays with metadata. To get at the underlying numbers, use the `value` attribute: "
   ]
  },
  {
   "cell_type": "code",
   "execution_count": 112,
   "metadata": {
    "collapsed": false
   },
   "outputs": [
    {
     "data": {
      "text/plain": [
       "(array([ 1.3,  1.5,  1.7]), numpy.ndarray)"
      ]
     },
     "execution_count": 112,
     "metadata": {},
     "output_type": "execute_result"
    }
   ],
   "source": [
    "distances.value, type(distances.value)"
   ]
  },
  {
   "cell_type": "markdown",
   "metadata": {},
   "source": [
    "If the result of what you're computing is unitless, but you arrived there by combining lots of units, then you might need to use the `float` function to turn your unitful answer into a dimensionless quantity by resolving all of the unit equivalences: "
   ]
  },
  {
   "cell_type": "code",
   "execution_count": 118,
   "metadata": {
    "collapsed": false
   },
   "outputs": [
    {
     "data": {
      "text/latex": [
       "$67 \\; \\mathrm{\\frac{Gyr\\,km}{Mpc\\,s}}$"
      ],
      "text/plain": [
       "<Quantity 67.0 Gyr km / (Mpc s)>"
      ]
     },
     "execution_count": 118,
     "metadata": {},
     "output_type": "execute_result"
    }
   ],
   "source": [
    "expansion_rate = 67 * u.km / u.s / u.Mpc\n",
    "duration = 1 * u.Gyr\n",
    "\n",
    "expansion_rate * duration"
   ]
  },
  {
   "cell_type": "code",
   "execution_count": 119,
   "metadata": {
    "collapsed": false
   },
   "outputs": [
    {
     "data": {
      "text/plain": [
       "0.0685217150585984"
      ]
     },
     "execution_count": 119,
     "metadata": {},
     "output_type": "execute_result"
    }
   ],
   "source": [
    "float(expansion_rate * duration)"
   ]
  },
  {
   "cell_type": "markdown",
   "metadata": {},
   "source": [
    "There are a bunch of useful quantities stored in `astropy.constants`, which will save you frustration in problem sets: "
   ]
  },
  {
   "cell_type": "code",
   "execution_count": 127,
   "metadata": {
    "collapsed": false
   },
   "outputs": [
    {
     "name": "stdout",
     "output_type": "stream",
     "text": [
      "  Name   = Solar mass\n",
      "  Value  = 1.9891e+30\n",
      "  Uncertainty  = 5e+25\n",
      "  Unit  = kg\n",
      "  Reference = Allen's Astrophysical Quantities 4th Ed.\n"
     ]
    }
   ],
   "source": [
    "from astropy.constants import R_sun, R_earth, R_jup\n",
    "from astropy.constants import M_sun, M_earth, m_e\n",
    "from astropy.constants import G, h, k_B\n",
    "\n",
    "print(M_sun)"
   ]
  },
  {
   "cell_type": "markdown",
   "metadata": {},
   "source": [
    "You can use these constants like units:"
   ]
  },
  {
   "cell_type": "code",
   "execution_count": 140,
   "metadata": {
    "collapsed": false
   },
   "outputs": [
    {
     "data": {
      "text/latex": [
       "$60.328792 \\; \\mathrm{1.9891 \\times 10^{30}\\,kg}$"
      ],
      "text/plain": [
       "<Quantity 60.328791915941885 1.9891e+30 kg>"
      ]
     },
     "execution_count": 140,
     "metadata": {},
     "output_type": "execute_result"
    }
   ],
   "source": [
    "# Calculate the black hole mass in units of solar masses: \n",
    "black_hole_mass = 12e31 * u.kg\n",
    "\n",
    "black_hole_mass.to(M_sun)"
   ]
  },
  {
   "cell_type": "markdown",
   "metadata": {},
   "source": [
    "The above result should be read as \"60 (solar masses)\". To see the quantity without it's unit, use `value`: "
   ]
  },
  {
   "cell_type": "code",
   "execution_count": 141,
   "metadata": {
    "collapsed": false
   },
   "outputs": [
    {
     "data": {
      "text/plain": [
       "60.328791915941885"
      ]
     },
     "execution_count": 141,
     "metadata": {},
     "output_type": "execute_result"
    }
   ],
   "source": [
    "black_hole_mass.to(M_sun).value"
   ]
  },
  {
   "cell_type": "markdown",
   "metadata": {},
   "source": [
    "***\n",
    "\n",
    "## 2) [`astropy.time`](http://astropy.readthedocs.org/en/latest/time/index.html): Time objects for humans\n",
    "\n",
    "There are many distinct and confusing time systems used in astronomy, and the `astropy.time` module provides a convenient means of translating between them – never code your own JD-to-ISO time converter or try to remember whether or not the difference between JD and MJD has a 0.5 in it again!"
   ]
  },
  {
   "cell_type": "code",
   "execution_count": 5,
   "metadata": {
    "collapsed": false
   },
   "outputs": [
    {
     "data": {
      "text/plain": [
       "<Time object: scale='utc' format='iso' value=2005-01-01 12:34:56.000>"
      ]
     },
     "execution_count": 5,
     "metadata": {},
     "output_type": "execute_result"
    }
   ],
   "source": [
    "# The astropy.time.Time object contains a time in a specified format\n",
    "from astropy.time import Time\n",
    "\n",
    "# If the input format is not specified, it will guess. Here's an ISO formatted string:\n",
    "Time('2005-01-01 12:34:56')"
   ]
  },
  {
   "cell_type": "markdown",
   "metadata": {},
   "source": [
    "Here's a Julian Date:"
   ]
  },
  {
   "cell_type": "code",
   "execution_count": 6,
   "metadata": {
    "collapsed": false
   },
   "outputs": [
    {
     "data": {
      "text/plain": [
       "<Time object: scale='utc' format='jd' value=2453372.0242592595>"
      ]
     },
     "execution_count": 6,
     "metadata": {},
     "output_type": "execute_result"
    }
   ],
   "source": [
    "t = Time(2453372.0242592595, format='jd')\n",
    "t"
   ]
  },
  {
   "cell_type": "markdown",
   "metadata": {},
   "source": [
    "Convert between time formats by calling `t.iso`, `t.mjd`, etc."
   ]
  },
  {
   "cell_type": "code",
   "execution_count": 7,
   "metadata": {
    "collapsed": false
   },
   "outputs": [
    {
     "data": {
      "text/plain": [
       "'2005-01-01 12:34:56.000'"
      ]
     },
     "execution_count": 7,
     "metadata": {},
     "output_type": "execute_result"
    }
   ],
   "source": [
    "t.iso"
   ]
  },
  {
   "cell_type": "markdown",
   "metadata": {},
   "source": [
    "By default, the scale (or time standard) is set to **UTC**, which is defined to keep an integer number of seconds per day. There are other time standards like **UT1** which are defined by the rotation of the Earth (see [my blog post on time standards](http://bmmorris.blogspot.com/2015/06/ut1-utc-and-astropy.html) for more background). Converting between the two can be messy, but not with astropy:"
   ]
  },
  {
   "cell_type": "code",
   "execution_count": 8,
   "metadata": {
    "collapsed": false
   },
   "outputs": [
    {
     "name": "stdout",
     "output_type": "stream",
     "text": [
      "Available time scales: tai, tcb, tcg, tdb, tt, ut1, utc\n"
     ]
    },
    {
     "data": {
      "text/plain": [
       "'utc'"
      ]
     },
     "execution_count": 8,
     "metadata": {},
     "output_type": "execute_result"
    }
   ],
   "source": [
    "print('Available time scales: {0}'.format(', '.join(Time.SCALES)))\n",
    "t.scale"
   ]
  },
  {
   "cell_type": "code",
   "execution_count": 9,
   "metadata": {
    "collapsed": false
   },
   "outputs": [
    {
     "data": {
      "text/plain": [
       "<Time object: scale='ut1' format='jd' value=2453372.0242534266>"
      ]
     },
     "execution_count": 9,
     "metadata": {},
     "output_type": "execute_result"
    }
   ],
   "source": [
    "t.ut1"
   ]
  },
  {
   "cell_type": "markdown",
   "metadata": {},
   "source": [
    "If converting between UTC and UT1 you raises an `IndexError` like this, \n",
    "```\n",
    "IndexError: (some) times are outside of range covered by IERS table.\n",
    "```\n",
    "it's because you need more up-to-date Earth rotation data since the Earth's rate of rotation is constantly changing. See the `astropy.time` docs on [Transformation offsets](http://astropy.readthedocs.org/en/stable/time/index.html#transformation-offsets) to update your Earth rotation data."
   ]
  },
  {
   "cell_type": "code",
   "execution_count": 10,
   "metadata": {
    "collapsed": false
   },
   "outputs": [
    {
     "data": {
      "text/plain": [
       "'2005-01-01 12:34:55.496'"
      ]
     },
     "execution_count": 10,
     "metadata": {},
     "output_type": "execute_result"
    }
   ],
   "source": [
    "t.ut1.iso"
   ]
  },
  {
   "cell_type": "markdown",
   "metadata": {},
   "source": [
    "Lastly, arrays of times can be generated from numpy arrays:"
   ]
  },
  {
   "cell_type": "code",
   "execution_count": 11,
   "metadata": {
    "collapsed": false
   },
   "outputs": [
    {
     "data": {
      "text/plain": [
       "<Time object: scale='utc' format='datetime' value=[datetime.datetime(2016, 8, 24, 23, 5, 14, 772001)\n",
       " datetime.datetime(2016, 10, 4, 13, 5, 14, 772001)\n",
       " datetime.datetime(2016, 11, 14, 3, 5, 14, 772001)\n",
       " datetime.datetime(2016, 12, 24, 17, 5, 14, 772001)\n",
       " datetime.datetime(2017, 2, 3, 7, 5, 14, 772001)\n",
       " datetime.datetime(2017, 3, 15, 21, 5, 14, 772001)\n",
       " datetime.datetime(2017, 4, 25, 11, 5, 14, 772001)\n",
       " datetime.datetime(2017, 6, 5, 1, 5, 14, 772001)\n",
       " datetime.datetime(2017, 7, 15, 15, 5, 14, 772001)\n",
       " datetime.datetime(2017, 8, 25, 5, 5, 14, 772001)]>"
      ]
     },
     "execution_count": 11,
     "metadata": {},
     "output_type": "execute_result"
    }
   ],
   "source": [
    "Time.now() + np.linspace(0, 1, 10)*u.year"
   ]
  },
  {
   "cell_type": "markdown",
   "metadata": {},
   "source": [
    "`Time` objects are also great for plotting a time series. For exampel, try using the `plot_date` attribute with `plt.plot_date`, or `decimalyear` with `plt.plot`: "
   ]
  },
  {
   "cell_type": "code",
   "execution_count": 152,
   "metadata": {
    "collapsed": false
   },
   "outputs": [
    {
     "data": {
      "image/png": "[encoded data removed]",
      "text/plain": [
       "<matplotlib.figure.Figure at 0x11848ba20>"
      ]
     },
     "metadata": {},
     "output_type": "display_data"
    }
   ],
   "source": [
    "%matplotlib inline\n",
    "import matplotlib.pyplot as plt\n",
    "\n",
    "times = Time.now() - np.linspace(0, 10, 100) * u.year\n",
    "fluxes = 0.01 * np.random.randn(len(times)) + 1\n",
    "\n",
    "plt.plot_date(times.plot_date, fluxes)\n",
    "plt.xlabel('Date')\n",
    "plt.ylabel('Flux')\n",
    "plt.show()"
   ]
  },
  {
   "cell_type": "markdown",
   "metadata": {},
   "source": [
    "***\n",
    "\n",
    "\n",
    "## 3) [`astropy.coordinates`](http://astropy.readthedocs.org/en/latest/coordinates/index.html)"
   ]
  },
  {
   "cell_type": "markdown",
   "metadata": {},
   "source": [
    "![XKCD comic](http://imgs.xkcd.com/comics/standards.png)"
   ]
  },
  {
   "cell_type": "markdown",
   "metadata": {},
   "source": [
    "Convert the position of your target from one coordinate system to another without opening a reference book!\n",
    "\n",
    "Let's define the galactic center in the natural coordinate system:"
   ]
  },
  {
   "cell_type": "code",
   "execution_count": 12,
   "metadata": {
    "collapsed": false
   },
   "outputs": [
    {
     "name": "stdout",
     "output_type": "stream",
     "text": [
      "<SkyCoord (Galactic): (l, b) in deg\n",
      "    (0.0, 0.0)>\n"
     ]
    }
   ],
   "source": [
    "from astropy.coordinates import SkyCoord\n",
    "\n",
    "gal_center = SkyCoord(l=0*u.deg, b=0*u.deg, frame='galactic')\n",
    "print(gal_center)"
   ]
  },
  {
   "cell_type": "markdown",
   "metadata": {},
   "source": [
    "Now let's say you have to tell an observer where that is in ICRS coordinates: what is that position in RA/Dec?"
   ]
  },
  {
   "cell_type": "code",
   "execution_count": 13,
   "metadata": {
    "collapsed": false
   },
   "outputs": [
    {
     "data": {
      "text/plain": [
       "<SkyCoord (ICRS): (ra, dec) in deg\n",
       "    (266.40498829, -28.93617776)>"
      ]
     },
     "execution_count": 13,
     "metadata": {},
     "output_type": "execute_result"
    }
   ],
   "source": [
    "gal_center.icrs"
   ]
  },
  {
   "cell_type": "markdown",
   "metadata": {},
   "source": [
    "You can resolve targets by name with the `from_name` class method"
   ]
  },
  {
   "cell_type": "code",
   "execution_count": 14,
   "metadata": {
    "collapsed": false
   },
   "outputs": [
    {
     "name": "stdout",
     "output_type": "stream",
     "text": [
      "<SkyCoord (ICRS): (ra, dec) in deg\n",
      "    (266.41681663, -29.00782497)>\n"
     ]
    }
   ],
   "source": [
    "sgr_a = SkyCoord.from_name('Sgr A*')\n",
    "print(sgr_a)"
   ]
  },
  {
   "cell_type": "markdown",
   "metadata": {},
   "source": [
    "Let's represent these coordinates in various formats with `.degree`, `.hourangle`:"
   ]
  },
  {
   "cell_type": "code",
   "execution_count": 15,
   "metadata": {
    "collapsed": false
   },
   "outputs": [
    {
     "data": {
      "text/plain": [
       "266.416816625"
      ]
     },
     "execution_count": 15,
     "metadata": {},
     "output_type": "execute_result"
    }
   ],
   "source": [
    "sgr_a.ra.degree"
   ]
  },
  {
   "cell_type": "markdown",
   "metadata": {},
   "source": [
    "and experiment with the string outputs you'd use in a proposal, like `dms`, `hmsdms`, `decimal`:"
   ]
  },
  {
   "cell_type": "code",
   "execution_count": 16,
   "metadata": {
    "collapsed": false
   },
   "outputs": [
    {
     "data": {
      "text/plain": [
       "'17:45:40.036 -29:00:28.1699'"
      ]
     },
     "execution_count": 16,
     "metadata": {},
     "output_type": "execute_result"
    }
   ],
   "source": [
    "sgr_a.to_string(style='hmsdms', sep=':')"
   ]
  },
  {
   "cell_type": "markdown",
   "metadata": {},
   "source": [
    "With a specified location on Earth, you can compute alt/az coordinates for any `SkyCoord`"
   ]
  },
  {
   "cell_type": "code",
   "execution_count": 17,
   "metadata": {
    "collapsed": false
   },
   "outputs": [
    {
     "data": {
      "text/plain": [
       "'11h21m34.3211s +12d46m20.633s'"
      ]
     },
     "execution_count": 17,
     "metadata": {},
     "output_type": "execute_result"
    }
   ],
   "source": [
    "from astropy.coordinates import EarthLocation, AltAz\n",
    "\n",
    "# Define Earth location:\n",
    "longitude, latitude, elevation = (-122.3331*u.deg, 47.6097*u.deg, 0*u.m)\n",
    "seattle = EarthLocation.from_geodetic(longitude, latitude, elevation)\n",
    "\n",
    "# Define alt/az frame:\n",
    "alt_az_frame = AltAz(obstime=Time('2005-06-07 08:09:10'), location=seattle)\n",
    "\n",
    "# Transform the coordinate to the new reference frame, and print\n",
    "sgr_a_altaz = sgr_a.transform_to(alt_az_frame)\n",
    "sgr_a_altaz.to_string(style='hmsdms')"
   ]
  },
  {
   "cell_type": "markdown",
   "metadata": {},
   "source": [
    "***\n",
    "\n",
    "\n",
    "## 4) [`astropy.cosmology`](http://astropy.readthedocs.org/en/latest/cosmology/): No more JavaScript cosmology calculators for you!\n",
    "\n",
    "First, choose a cosmology (e.g.: `Planck13`, `WMAP9`) and get $H_0$:"
   ]
  },
  {
   "cell_type": "code",
   "execution_count": 18,
   "metadata": {
    "collapsed": false
   },
   "outputs": [
    {
     "data": {
      "text/latex": [
       "$67.77 \\; \\mathrm{\\frac{km}{Mpc\\,s}}$"
      ],
      "text/plain": [
       "<Quantity 67.77 km / (Mpc s)>"
      ]
     },
     "execution_count": 18,
     "metadata": {},
     "output_type": "execute_result"
    }
   ],
   "source": [
    "from astropy.cosmology import Planck13 as cosmo\n",
    "\n",
    "cosmo.H(z=0)"
   ]
  },
  {
   "cell_type": "code",
   "execution_count": 19,
   "metadata": {
    "collapsed": false
   },
   "outputs": [
    {
     "data": {
      "text/latex": [
       "$1697.5794 \\; \\mathrm{Mpc}$"
      ],
      "text/plain": [
       "<Quantity 1697.5793543185223 Mpc>"
      ]
     },
     "execution_count": 19,
     "metadata": {},
     "output_type": "execute_result"
    }
   ],
   "source": [
    "cosmo.angular_diameter_distance(z=1)"
   ]
  },
  {
   "cell_type": "code",
   "execution_count": 20,
   "metadata": {
    "collapsed": false
   },
   "outputs": [
    {
     "data": {
      "text/latex": [
       "$6790.3174 \\; \\mathrm{Mpc}$"
      ],
      "text/plain": [
       "<Quantity 6790.317417274089 Mpc>"
      ]
     },
     "execution_count": 20,
     "metadata": {},
     "output_type": "execute_result"
    }
   ],
   "source": [
    "cosmo.luminosity_distance(z=1)"
   ]
  },
  {
   "cell_type": "markdown",
   "metadata": {},
   "source": [
    "In cosmology class you'll still have to learn to solve these from scratch, but you can double check yourself like so: "
   ]
  },
  {
   "cell_type": "code",
   "execution_count": 21,
   "metadata": {
    "collapsed": false
   },
   "outputs": [
    {
     "data": {
      "image/png": "[encoded data removed]",
      "text/plain": [
       "<matplotlib.figure.Figure at 0x10f347b00>"
      ]
     },
     "metadata": {},
     "output_type": "display_data"
    }
   ],
   "source": [
    "%matplotlib inline\n",
    "import matplotlib.pyplot as plt\n",
    "\n",
    "z = np.linspace(0, 10, 50)\n",
    "\n",
    "# Compute some parameters\n",
    "t_lookback = cosmo.lookback_time(z)\n",
    "T_cmb = cosmo.Tcmb(z)\n",
    "D_A = cosmo.angular_diameter_distance(z)\n",
    "D_L = cosmo.luminosity_distance(z)\n",
    "\n",
    "fig, ax = plt.subplots(2, 2, figsize=(10, 10))\n",
    "\n",
    "ax[0, 0].plot(z, t_lookback)\n",
    "ax[0, 0].set(title='Look-back Time', xlabel='$z$', \n",
    "             ylabel=r'$t_{{lookback}}(z)$ [{0}]'.format(t_lookback.unit))\n",
    "\n",
    "ax[0, 1].plot(z, T_cmb)\n",
    "ax[0, 1].set(title='$T_{CMB}$', xlabel='$z$', \n",
    "             ylabel='$T_{{CMB}}(z)$ [{0}]'.format(T_cmb.unit))\n",
    "\n",
    "ax[1, 0].plot(z, D_A)\n",
    "ax[1, 0].set(title='Angular Diameter Distance', xlabel='$z$', \n",
    "             ylabel=r'$D_A(z)$ [{0}]'.format(D_A.unit))\n",
    "\n",
    "ax[1, 1].plot(z, D_L)\n",
    "ax[1, 1].set(title='Luminosity Distance', xlabel='$z$', \n",
    "             ylabel=r'$D_L(z)$ [{0}]'.format(D_L.unit))\n",
    "\n",
    "fig.subplots_adjust(wspace=0.3)\n",
    "fig.suptitle('Cosmology: {0}'.format(cosmo.name), fontsize=18);"
   ]
  },
  {
   "cell_type": "markdown",
   "metadata": {},
   "source": [
    "# 5) `astropy.table`: Table objects for physical scientists\n",
    "\n",
    "What makes a table object specific to physical scientists, you ask? **Units** my friend, units. In general, [pandas](http://pandas.pydata.org) has the most mature table-like data structures in Python, but the astropy table is nifty, so let's see how it works. \n",
    "\n",
    "A table can be constructed a bunch of ways. Let's initialize one from an array: "
   ]
  },
  {
   "cell_type": "code",
   "execution_count": 77,
   "metadata": {
    "collapsed": false
   },
   "outputs": [
    {
     "data": {
      "text/html": [
       "&lt;Table length=10&gt;\n",
       "<table id=\"table4684965368\" class=\"table-striped table-bordered table-condensed\">\n",
       "<thead><tr><th>a</th><th>b</th><th>c</th><th>d</th><th>e</th></tr></thead>\n",
       "<thead><tr><th>int64</th><th>int64</th><th>int64</th><th>int64</th><th>int64</th></tr></thead>\n",
       "<tr><td>4</td><td>60</td><td>6</td><td>28</td><td>18</td></tr>\n",
       "<tr><td>60</td><td>81</td><td>79</td><td>2</td><td>66</td></tr>\n",
       "<tr><td>29</td><td>72</td><td>65</td><td>60</td><td>88</td></tr>\n",
       "<tr><td>84</td><td>60</td><td>58</td><td>12</td><td>63</td></tr>\n",
       "<tr><td>21</td><td>82</td><td>46</td><td>19</td><td>94</td></tr>\n",
       "<tr><td>47</td><td>45</td><td>40</td><td>85</td><td>20</td></tr>\n",
       "<tr><td>76</td><td>71</td><td>66</td><td>99</td><td>65</td></tr>\n",
       "<tr><td>91</td><td>80</td><td>2</td><td>50</td><td>12</td></tr>\n",
       "<tr><td>54</td><td>5</td><td>97</td><td>67</td><td>20</td></tr>\n",
       "<tr><td>68</td><td>25</td><td>46</td><td>9</td><td>66</td></tr>\n",
       "</table>"
      ],
      "text/plain": [
       "<Table length=10>\n",
       "  a     b     c     d     e  \n",
       "int64 int64 int64 int64 int64\n",
       "----- ----- ----- ----- -----\n",
       "    4    60     6    28    18\n",
       "   60    81    79     2    66\n",
       "   29    72    65    60    88\n",
       "   84    60    58    12    63\n",
       "   21    82    46    19    94\n",
       "   47    45    40    85    20\n",
       "   76    71    66    99    65\n",
       "   91    80     2    50    12\n",
       "   54     5    97    67    20\n",
       "   68    25    46     9    66"
      ]
     },
     "execution_count": 77,
     "metadata": {},
     "output_type": "execute_result"
    }
   ],
   "source": [
    "from astropy.table import Table\n",
    "\n",
    "example_data = np.random.randint(0, 100, 50).reshape((10, 5))\n",
    "column_names = ['a', 'b', 'c', 'd', 'e']\n",
    "\n",
    "table = Table(example_data, names=column_names)\n",
    "\n",
    "table"
   ]
  },
  {
   "cell_type": "markdown",
   "metadata": {},
   "source": [
    "As you can see, the astropy table has some special powers inside iPython notebooks, and gets rendered nicely. \n",
    "\n",
    "The first row tells you the names of each column. You can access a column of data from a table by treating the table like a dictionary: "
   ]
  },
  {
   "cell_type": "code",
   "execution_count": 78,
   "metadata": {
    "collapsed": false
   },
   "outputs": [
    {
     "data": {
      "text/html": [
       "&lt;Column name=&apos;a&apos; dtype=&apos;int64&apos; length=10&gt;\n",
       "<table>\n",
       "<tr><td>4</td></tr>\n",
       "<tr><td>60</td></tr>\n",
       "<tr><td>29</td></tr>\n",
       "<tr><td>84</td></tr>\n",
       "<tr><td>21</td></tr>\n",
       "<tr><td>47</td></tr>\n",
       "<tr><td>76</td></tr>\n",
       "<tr><td>91</td></tr>\n",
       "<tr><td>54</td></tr>\n",
       "<tr><td>68</td></tr>\n",
       "</table>"
      ],
      "text/plain": [
       "<Column name='a' dtype='int64' length=10>\n",
       " 4\n",
       "60\n",
       "29\n",
       "84\n",
       "21\n",
       "47\n",
       "76\n",
       "91\n",
       "54\n",
       "68"
      ]
     },
     "execution_count": 78,
     "metadata": {},
     "output_type": "execute_result"
    }
   ],
   "source": [
    "table['a']"
   ]
  },
  {
   "cell_type": "markdown",
   "metadata": {},
   "source": [
    "This column object has a `.data` attribute which you can use to get at the `numpy` array underneath:"
   ]
  },
  {
   "cell_type": "code",
   "execution_count": 85,
   "metadata": {
    "collapsed": false
   },
   "outputs": [
    {
     "data": {
      "text/plain": [
       "array([ 4, 60, 29, 84, 21, 47, 76, 91, 54, 68])"
      ]
     },
     "execution_count": 85,
     "metadata": {},
     "output_type": "execute_result"
    }
   ],
   "source": [
    "table['a'].data"
   ]
  },
  {
   "cell_type": "markdown",
   "metadata": {},
   "source": [
    "This gets at the heart of what an astropy table is. It's essentially an ordered dictionary of columns. Each column is a numpy array _with metadata_. That metadata is what makes the table useful, because those columns, for example, can have units! "
   ]
  },
  {
   "cell_type": "code",
   "execution_count": 86,
   "metadata": {
    "collapsed": false
   },
   "outputs": [
    {
     "data": {
      "text/html": [
       "&lt;Table length=10&gt;\n",
       "<table id=\"table4684965368\" class=\"table-striped table-bordered table-condensed\">\n",
       "<thead><tr><th>a</th><th>b</th><th>c</th><th>d</th><th>e</th></tr></thead>\n",
       "<thead><tr><th>km</th><th>lyr</th><th>kg</th><th>s</th><th>Mpc</th></tr></thead>\n",
       "<thead><tr><th>int64</th><th>int64</th><th>int64</th><th>int64</th><th>int64</th></tr></thead>\n",
       "<tr><td>4</td><td>60</td><td>6</td><td>28</td><td>18</td></tr>\n",
       "<tr><td>60</td><td>81</td><td>79</td><td>2</td><td>66</td></tr>\n",
       "<tr><td>29</td><td>72</td><td>65</td><td>60</td><td>88</td></tr>\n",
       "<tr><td>84</td><td>60</td><td>58</td><td>12</td><td>63</td></tr>\n",
       "<tr><td>21</td><td>82</td><td>46</td><td>19</td><td>94</td></tr>\n",
       "<tr><td>47</td><td>45</td><td>40</td><td>85</td><td>20</td></tr>\n",
       "<tr><td>76</td><td>71</td><td>66</td><td>99</td><td>65</td></tr>\n",
       "<tr><td>91</td><td>80</td><td>2</td><td>50</td><td>12</td></tr>\n",
       "<tr><td>54</td><td>5</td><td>97</td><td>67</td><td>20</td></tr>\n",
       "<tr><td>68</td><td>25</td><td>46</td><td>9</td><td>66</td></tr>\n",
       "</table>"
      ],
      "text/plain": [
       "<Table length=10>\n",
       "  a     b     c     d     e  \n",
       "  km   lyr    kg    s    Mpc \n",
       "int64 int64 int64 int64 int64\n",
       "----- ----- ----- ----- -----\n",
       "    4    60     6    28    18\n",
       "   60    81    79     2    66\n",
       "   29    72    65    60    88\n",
       "   84    60    58    12    63\n",
       "   21    82    46    19    94\n",
       "   47    45    40    85    20\n",
       "   76    71    66    99    65\n",
       "   91    80     2    50    12\n",
       "   54     5    97    67    20\n",
       "   68    25    46     9    66"
      ]
     },
     "execution_count": 86,
     "metadata": {},
     "output_type": "execute_result"
    }
   ],
   "source": [
    "table['a'].unit = u.km\n",
    "table['b'].unit = u.lightyear\n",
    "table['c'].unit = u.kg\n",
    "table['d'].unit = u.s\n",
    "table['e'].unit = u.Mpc\n",
    "\n",
    "table"
   ]
  },
  {
   "cell_type": "markdown",
   "metadata": {},
   "source": [
    "Now you can do operations on each column as though it was a unit vector:"
   ]
  },
  {
   "cell_type": "code",
   "execution_count": 144,
   "metadata": {
    "collapsed": false
   },
   "outputs": [
    {
     "data": {
      "text/latex": [
       "$[18.396084,~24.834713,~22.0753,~18.396084,~25.141314,~13.797063,~21.768699,~24.528112,~1.533007,~7.6650348] \\; \\mathrm{pc}$"
      ],
      "text/plain": [
       "<Quantity [ 18.39608363, 24.8347129 , 22.07530035, 18.39608363,\n",
       "            25.14131429, 13.79706272, 21.76869896, 24.5281115 ,\n",
       "             1.53300697,  7.66503484] pc>"
      ]
     },
     "execution_count": 144,
     "metadata": {},
     "output_type": "execute_result"
    }
   ],
   "source": [
    "table['b'].to(u.pc)"
   ]
  },
  {
   "cell_type": "markdown",
   "metadata": {},
   "source": [
    "and you can get each element as a quantity, or not: "
   ]
  },
  {
   "cell_type": "code",
   "execution_count": 94,
   "metadata": {
    "collapsed": false
   },
   "outputs": [
    {
     "data": {
      "text/plain": [
       "(29, numpy.int64)"
      ]
     },
     "execution_count": 94,
     "metadata": {},
     "output_type": "execute_result"
    }
   ],
   "source": [
    "# Not a quantity:\n",
    "table['a'][2], type(table['a'][2])"
   ]
  },
  {
   "cell_type": "code",
   "execution_count": 96,
   "metadata": {
    "collapsed": false
   },
   "outputs": [
    {
     "data": {
      "text/latex": [
       "$29 \\; \\mathrm{km}$"
      ],
      "text/plain": [
       "<Quantity 29 km>"
      ]
     },
     "execution_count": 96,
     "metadata": {},
     "output_type": "execute_result"
    }
   ],
   "source": [
    "# A quantity:\n",
    "table['a'].quantity[2]"
   ]
  },
  {
   "cell_type": "markdown",
   "metadata": {},
   "source": [
    "***\n",
    "\n",
    "\n",
    "## 6a) Affiliated Package: [`astroquery`](http://astroquery.readthedocs.org)\n",
    "\n",
    "Since `astropy` is a collection of fundamental tools that are easy to use, lots of packages have been built on top of `astropy`, but not necessarily merged into `astropy` core. One of those is `astroquery`, which allows you to query astronomical databases with ease.\n",
    "\n",
    "Let's query for the SIMBAD entry for a planet hosting star, HD 189733:"
   ]
  },
  {
   "cell_type": "code",
   "execution_count": 153,
   "metadata": {
    "collapsed": false
   },
   "outputs": [
    {
     "data": {
      "text/html": [
       "&lt;Table masked=True length=1&gt;\n",
       "<table id=\"table4562959496\" class=\"table-striped table-bordered table-condensed\">\n",
       "<thead><tr><th>MAIN_ID</th><th>RA</th><th>DEC</th><th>RA_PREC</th><th>DEC_PREC</th><th>COO_ERR_MAJA</th><th>COO_ERR_MINA</th><th>COO_ERR_ANGLE</th><th>COO_QUAL</th><th>COO_WAVELENGTH</th><th>COO_BIBCODE</th></tr></thead>\n",
       "<thead><tr><th></th><th>&quot;h:m:s&quot;</th><th>&quot;d:m:s&quot;</th><th></th><th></th><th>mas</th><th>mas</th><th>deg</th><th></th><th></th><th></th></tr></thead>\n",
       "<thead><tr><th>object</th><th>str13</th><th>str13</th><th>int16</th><th>int16</th><th>float32</th><th>float32</th><th>int16</th><th>str1</th><th>str1</th><th>object</th></tr></thead>\n",
       "<tr><td>HD 189733</td><td>20 00 43.7134</td><td>+22 42 39.064</td><td>9</td><td>9</td><td>4.660</td><td>3.520</td><td>90</td><td>A</td><td>O</td><td>2007A&amp;A...474..653V</td></tr>\n",
       "</table>"
      ],
      "text/plain": [
       "<Table masked=True length=1>\n",
       " MAIN_ID        RA           DEC      ... COO_WAVELENGTH     COO_BIBCODE    \n",
       "             \"h:m:s\"       \"d:m:s\"    ...                                   \n",
       "  object      str13         str13     ...      str1             object      \n",
       "--------- ------------- ------------- ... -------------- -------------------\n",
       "HD 189733 20 00 43.7134 +22 42 39.064 ...              O 2007A&A...474..653V"
      ]
     },
     "execution_count": 153,
     "metadata": {},
     "output_type": "execute_result"
    }
   ],
   "source": [
    "from astroquery.simbad import Simbad\n",
    "\n",
    "Simbad.query_object('HD 189733')"
   ]
  },
  {
   "cell_type": "markdown",
   "metadata": {},
   "source": [
    "Let's query Vizier for the famous list of standard stars from [Landolt (1992)](http://adsabs.harvard.edu/abs/1992AJ....104..340L). The [`astropy.table`](http://astropy.readthedocs.org/en/latest/table/) that is returned to you will have the same information as [this Vizier query page](http://vizier.u-strasbg.fr/viz-bin/VizieR-3?-source=II/183A/table2)."
   ]
  },
  {
   "cell_type": "code",
   "execution_count": 23,
   "metadata": {
    "collapsed": false
   },
   "outputs": [
    {
     "name": "stderr",
     "output_type": "stream",
     "text": [
      "WARNING: AstropyDeprecationWarning: astropy.utils.compat.odict.OrderedDict is now deprecated - import OrderedDict from the collections module instead [astropy.utils.compat.odict]\n",
      "WARNING: AstropyDeprecationWarning: astropy.utils.compat.odict.OrderedDict is now deprecated - import OrderedDict from the collections module instead [astropy.utils.compat.odict]\n"
     ]
    },
    {
     "data": {
      "text/html": [
       "&lt;Table masked=True length=50&gt;\n",
       "<table id=\"table4404395312\" class=\"table-striped table-bordered table-condensed\">\n",
       "<thead><tr><th>_RAJ2000</th><th>_DEJ2000</th><th>Star</th><th>RAJ2000</th><th>DEJ2000</th><th>o_Vmag</th><th>Vmag</th><th>e_Vmag</th><th>B-V</th><th>e_B-V</th><th>U-B</th><th>e_U-B</th><th>V-R</th><th>e_V-R</th><th>R-I</th><th>e_R-I</th><th>V-I</th><th>e_V-I</th><th>Nd</th><th>SimbadName</th></tr></thead>\n",
       "<thead><tr><th>deg</th><th>deg</th><th></th><th>&quot;h:m:s&quot;</th><th>&quot;d:m:s&quot;</th><th></th><th>mag</th><th>mag</th><th>mag</th><th>mag</th><th>mag</th><th>mag</th><th>mag</th><th>mag</th><th>mag</th><th>mag</th><th>mag</th><th>mag</th><th></th><th></th></tr></thead>\n",
       "<thead><tr><th>float64</th><th>float64</th><th>bytes11</th><th>bytes8</th><th>bytes9</th><th>int16</th><th>float32</th><th>float32</th><th>float32</th><th>float32</th><th>float32</th><th>float32</th><th>float32</th><th>float32</th><th>float32</th><th>float32</th><th>float32</th><th>float32</th><th>int16</th><th>bytes18</th></tr></thead>\n",
       "<tr><td>7.5375</td><td>-46.5228</td><td>TPHE A</td><td>00 30 09</td><td>-46 31 22</td><td>29</td><td>14.651</td><td>0.0028</td><td>0.793</td><td>0.0046</td><td>0.380</td><td>0.0071</td><td>0.435</td><td>0.0019</td><td>0.405</td><td>0.0035</td><td>0.841</td><td>0.0032</td><td>12</td><td>[L92b] TPHE A</td></tr>\n",
       "<tr><td>7.5667</td><td>-46.4653</td><td>TPHE B</td><td>00 30 16</td><td>-46 27 55</td><td>29</td><td>12.334</td><td>0.0115</td><td>0.405</td><td>0.0026</td><td>0.156</td><td>0.0039</td><td>0.262</td><td>0.0020</td><td>0.271</td><td>0.0019</td><td>0.535</td><td>0.0035</td><td>17</td><td>[L92b] TPHE B</td></tr>\n",
       "<tr><td>7.5708</td><td>-46.5428</td><td>TPHE C</td><td>00 30 17</td><td>-46 32 34</td><td>39</td><td>14.376</td><td>0.0022</td><td>-0.298</td><td>0.0024</td><td>-1.217</td><td>0.0043</td><td>-0.148</td><td>0.0038</td><td>-0.211</td><td>0.0133</td><td>-0.360</td><td>0.0149</td><td>23</td><td>[L92b] TPHE C</td></tr>\n",
       "<tr><td>7.5750</td><td>-46.5197</td><td>TPHE D</td><td>00 30 18</td><td>-46 31 11</td><td>37</td><td>13.118</td><td>0.0033</td><td>1.551</td><td>0.0030</td><td>1.871</td><td>0.0118</td><td>0.849</td><td>0.0015</td><td>0.810</td><td>0.0023</td><td>1.663</td><td>0.0030</td><td>23</td><td>[L92b] TPHE D</td></tr>\n",
       "<tr><td>7.5792</td><td>-46.4100</td><td>TPHE E</td><td>00 30 19</td><td>-46 24 36</td><td>34</td><td>11.630</td><td>0.0017</td><td>0.443</td><td>0.0012</td><td>-0.103</td><td>0.0024</td><td>0.276</td><td>0.0007</td><td>0.283</td><td>0.0015</td><td>0.564</td><td>0.0019</td><td>8</td><td>[L92b] TPHE E</td></tr>\n",
       "<tr><td>7.7083</td><td>-46.5592</td><td>TPHE F</td><td>00 30 50</td><td>-46 33 33</td><td>5</td><td>12.474</td><td>0.0004</td><td>0.855</td><td>0.0058</td><td>0.532</td><td>0.0161</td><td>0.492</td><td>0.0004</td><td>0.435</td><td>0.0040</td><td>0.926</td><td>0.0036</td><td>3</td><td>[L92b] TPHE F</td></tr>\n",
       "<tr><td>7.7708</td><td>-46.3786</td><td>TPHE G</td><td>00 31 05</td><td>-46 22 43</td><td>5</td><td>10.442</td><td>0.0004</td><td>1.546</td><td>0.0013</td><td>1.915</td><td>0.0036</td><td>0.934</td><td>0.0004</td><td>1.085</td><td>0.0009</td><td>2.025</td><td>0.0009</td><td>3</td><td>[L92b] TPHE G</td></tr>\n",
       "<tr><td>7.9583</td><td>2.6406</td><td>PG0029+024</td><td>00 31 50</td><td>+02 38 26</td><td>5</td><td>15.268</td><td>0.0094</td><td>0.362</td><td>0.0174</td><td>-0.184</td><td>0.0112</td><td>0.251</td><td>0.0161</td><td>0.337</td><td>0.0125</td><td>0.593</td><td>0.0067</td><td>2</td><td>PG0029+024</td></tr>\n",
       "<tr><td>10.5208</td><td>5.1622</td><td>PG0039+049</td><td>00 42 05</td><td>+05 09 44</td><td>4</td><td>12.877</td><td>0.0020</td><td>-0.019</td><td>0.0030</td><td>-0.871</td><td>0.0055</td><td>0.067</td><td>0.0035</td><td>0.097</td><td>0.0055</td><td>0.164</td><td>0.0045</td><td>3</td><td>PG0039+049</td></tr>\n",
       "<tr><td>...</td><td>...</td><td>...</td><td>...</td><td>...</td><td>...</td><td>...</td><td>...</td><td>...</td><td>...</td><td>...</td><td>...</td><td>...</td><td>...</td><td>...</td><td>...</td><td>...</td><td>...</td><td>...</td><td>...</td></tr>\n",
       "<tr><td>14.0292</td><td>1.0050</td><td>92 427</td><td>00 56 07</td><td>+01 00 18</td><td>2</td><td>14.953</td><td>0.0021</td><td>0.809</td><td>0.0085</td><td>0.352</td><td>0.0233</td><td>0.462</td><td>0.0014</td><td>2.922</td><td>0.0113</td><td>3.275</td><td>0.0092</td><td>1</td><td>SA 92 427</td></tr>\n",
       "<tr><td>14.0333</td><td>1.0733</td><td>92 502</td><td>00 56 08</td><td>+01 04 24</td><td>1</td><td>11.812</td><td>0.0000</td><td>0.486</td><td>0.0000</td><td>-0.095</td><td>0.0000</td><td>0.284</td><td>0.0000</td><td>0.292</td><td>0.0000</td><td>0.576</td><td>0.0000</td><td>1</td><td>SA 92 502</td></tr>\n",
       "<tr><td>14.0667</td><td>0.8878</td><td>92 430</td><td>00 56 16</td><td>+00 53 16</td><td>35</td><td>14.440</td><td>0.0041</td><td>0.567</td><td>0.0052</td><td>-0.040</td><td>0.0081</td><td>0.338</td><td>0.0029</td><td>0.338</td><td>0.0049</td><td>0.676</td><td>0.0051</td><td>18</td><td>SA 92 430</td></tr>\n",
       "<tr><td>14.1125</td><td>0.6981</td><td>92 276</td><td>00 56 27</td><td>+00 41 53</td><td>21</td><td>12.036</td><td>0.0039</td><td>0.629</td><td>0.0022</td><td>0.067</td><td>0.0039</td><td>0.368</td><td>0.0031</td><td>0.357</td><td>0.0031</td><td>0.726</td><td>0.0052</td><td>11</td><td>SA 92 276</td></tr>\n",
       "<tr><td>14.1958</td><td>0.6414</td><td>92 282</td><td>00 56 47</td><td>+00 38 29</td><td>27</td><td>12.969</td><td>0.0031</td><td>0.318</td><td>0.0023</td><td>-0.038</td><td>0.0044</td><td>0.201</td><td>0.0017</td><td>0.221</td><td>0.0023</td><td>0.422</td><td>0.0033</td><td>15</td><td>SA 92 282</td></tr>\n",
       "<tr><td>14.2125</td><td>1.1597</td><td>92 508</td><td>00 56 51</td><td>+01 09 35</td><td>3</td><td>11.679</td><td>0.0035</td><td>0.529</td><td>0.0046</td><td>-0.047</td><td>0.0029</td><td>0.318</td><td>0.0058</td><td>0.320</td><td>0.0029</td><td>0.639</td><td>0.0029</td><td>2</td><td>SA 92 508</td></tr>\n",
       "<tr><td>14.2125</td><td>1.0994</td><td>92 507</td><td>00 56 51</td><td>+01 05 58</td><td>3</td><td>11.332</td><td>0.0006</td><td>0.932</td><td>0.0046</td><td>0.688</td><td>0.0006</td><td>0.507</td><td>0.0012</td><td>0.461</td><td>0.0006</td><td>0.969</td><td>0.0012</td><td>2</td><td>SA 92 507</td></tr>\n",
       "<tr><td>14.2208</td><td>0.7339</td><td>92 364</td><td>00 56 53</td><td>+00 44 02</td><td>4</td><td>11.673</td><td>0.0015</td><td>0.607</td><td>0.0015</td><td>-0.037</td><td>0.0085</td><td>0.356</td><td>0.0045</td><td>0.357</td><td>0.0010</td><td>0.714</td><td>0.0055</td><td>2</td><td>SA 92 364</td></tr>\n",
       "<tr><td>14.2250</td><td>1.0119</td><td>92 433</td><td>00 56 54</td><td>+01 00 43</td><td>3</td><td>11.667</td><td>0.0006</td><td>0.655</td><td>0.0035</td><td>0.110</td><td>0.0115</td><td>0.367</td><td>0.0029</td><td>0.348</td><td>0.0017</td><td>0.716</td><td>0.0023</td><td>2</td><td>SA 92 433</td></tr>\n",
       "<tr><td>14.3208</td><td>0.6128</td><td>92 288</td><td>00 57 17</td><td>+00 36 46</td><td>48</td><td>11.630</td><td>0.0014</td><td>0.855</td><td>0.0014</td><td>0.472</td><td>0.0022</td><td>0.489</td><td>0.0012</td><td>0.441</td><td>0.0009</td><td>0.931</td><td>0.0013</td><td>33</td><td>SA 92 288</td></tr>\n",
       "</table>"
      ],
      "text/plain": [
       "<Table masked=True length=50>\n",
       "_RAJ2000 _DEJ2000    Star    RAJ2000  ...   V-I    e_V-I    Nd    SimbadName \n",
       "  deg      deg               \"h:m:s\"  ...   mag     mag                      \n",
       "float64  float64   bytes11    bytes8  ... float32 float32 int16    bytes18   \n",
       "-------- -------- ---------- -------- ... ------- ------- ----- -------------\n",
       "  7.5375 -46.5228     TPHE A 00 30 09 ...   0.841  0.0032    12 [L92b] TPHE A\n",
       "  7.5667 -46.4653     TPHE B 00 30 16 ...   0.535  0.0035    17 [L92b] TPHE B\n",
       "  7.5708 -46.5428     TPHE C 00 30 17 ...  -0.360  0.0149    23 [L92b] TPHE C\n",
       "  7.5750 -46.5197     TPHE D 00 30 18 ...   1.663  0.0030    23 [L92b] TPHE D\n",
       "  7.5792 -46.4100     TPHE E 00 30 19 ...   0.564  0.0019     8 [L92b] TPHE E\n",
       "  7.7083 -46.5592     TPHE F 00 30 50 ...   0.926  0.0036     3 [L92b] TPHE F\n",
       "  7.7708 -46.3786     TPHE G 00 31 05 ...   2.025  0.0009     3 [L92b] TPHE G\n",
       "  7.9583   2.6406 PG0029+024 00 31 50 ...   0.593  0.0067     2    PG0029+024\n",
       " 10.5208   5.1622 PG0039+049 00 42 05 ...   0.164  0.0045     3    PG0039+049\n",
       "     ...      ...        ...      ... ...     ...     ...   ...           ...\n",
       " 14.0292   1.0050     92 427 00 56 07 ...   3.275  0.0092     1     SA 92 427\n",
       " 14.0333   1.0733     92 502 00 56 08 ...   0.576  0.0000     1     SA 92 502\n",
       " 14.0667   0.8878     92 430 00 56 16 ...   0.676  0.0051    18     SA 92 430\n",
       " 14.1125   0.6981     92 276 00 56 27 ...   0.726  0.0052    11     SA 92 276\n",
       " 14.1958   0.6414     92 282 00 56 47 ...   0.422  0.0033    15     SA 92 282\n",
       " 14.2125   1.1597     92 508 00 56 51 ...   0.639  0.0029     2     SA 92 508\n",
       " 14.2125   1.0994     92 507 00 56 51 ...   0.969  0.0012     2     SA 92 507\n",
       " 14.2208   0.7339     92 364 00 56 53 ...   0.714  0.0055     2     SA 92 364\n",
       " 14.2250   1.0119     92 433 00 56 54 ...   0.716  0.0023     2     SA 92 433\n",
       " 14.3208   0.6128     92 288 00 57 17 ...   0.931  0.0013    33     SA 92 288"
      ]
     },
     "execution_count": 23,
     "metadata": {},
     "output_type": "execute_result"
    }
   ],
   "source": [
    "from astroquery.vizier import Vizier\n",
    "\n",
    "landolt_table = Vizier.get_catalogs('Landolt 1992')[0]\n",
    "landolt_table"
   ]
  },
  {
   "cell_type": "markdown",
   "metadata": {
    "collapsed": true
   },
   "source": [
    "## 6b) Affiliated Package: [`astroplan`](https://astroplan.readthedocs.org/en/latest/)\n",
    "\n",
    "`astroplan` is an `astropy`-affiliated package that helps you calculate when objects are observable. Here's a quick example for determining which targets are visible right now from Apache Point Observatory:"
   ]
  },
  {
   "cell_type": "code",
   "execution_count": 24,
   "metadata": {
    "collapsed": false
   },
   "outputs": [
    {
     "data": {
      "text/plain": [
       "[True, False, True, False]"
      ]
     },
     "execution_count": 24,
     "metadata": {},
     "output_type": "execute_result"
    }
   ],
   "source": [
    "from astroplan import Observer, FixedTarget\n",
    "\n",
    "# Targets are stored as `astroplan.FixedTarget` objects\n",
    "target_names = ['Polaris', 'Sirius', 'Vega', 'Rigel']\n",
    "targets = [FixedTarget.from_name(target) for target in target_names]\n",
    "\n",
    "# Observatories are `astroplan.Observer` objects\n",
    "observatory = Observer.at_site(\"Apache Point\")\n",
    "\n",
    "# Which targets are visible right now?\n",
    "observatory.target_is_up(Time.now(), targets)"
   ]
  },
  {
   "cell_type": "markdown",
   "metadata": {},
   "source": [
    "Now let's see which of those targets are visible over a time range of the next ten days, given the following constraints: \n",
    "\n",
    "* Observations must occur between civil twilights\n",
    "* The altitude of the target must be $20^\\circ < $alt$ < 85^\\circ$"
   ]
  },
  {
   "cell_type": "code",
   "execution_count": 25,
   "metadata": {
    "collapsed": false
   },
   "outputs": [
    {
     "data": {
      "text/html": [
       "&lt;Table length=4&gt;\n",
       "<table id=\"table4515732168\" class=\"table-striped table-bordered table-condensed\">\n",
       "<thead><tr><th>target name</th><th>ever observable</th><th>always observable</th><th>fraction of time observable</th></tr></thead>\n",
       "<thead><tr><th>str7</th><th>bool</th><th>bool</th><th>float64</th></tr></thead>\n",
       "<tr><td>Polaris</td><td>True</td><td>False</td><td>0.4375</td></tr>\n",
       "<tr><td>Sirius</td><td>True</td><td>False</td><td>0.025</td></tr>\n",
       "<tr><td>Vega</td><td>True</td><td>False</td><td>0.302083333333</td></tr>\n",
       "<tr><td>Rigel</td><td>True</td><td>False</td><td>0.108333333333</td></tr>\n",
       "</table>"
      ],
      "text/plain": [
       "<Table length=4>\n",
       "target name ever observable always observable fraction of time observable\n",
       "    str7          bool             bool                 float64          \n",
       "----------- --------------- ----------------- ---------------------------\n",
       "    Polaris            True             False                      0.4375\n",
       "     Sirius            True             False                       0.025\n",
       "       Vega            True             False              0.302083333333\n",
       "      Rigel            True             False              0.108333333333"
      ]
     },
     "execution_count": 25,
     "metadata": {},
     "output_type": "execute_result"
    }
   ],
   "source": [
    "from astroplan import AtNightConstraint, AltitudeConstraint, observability_table\n",
    "\n",
    "time_range = Time.now() + np.array([0, 10])*u.day\n",
    "constraints = [AtNightConstraint.twilight_civil(),\n",
    "               AltitudeConstraint(min=20*u.deg, max=85*u.deg)]\n",
    "\n",
    "observability_table(constraints, observatory, targets, time_range=time_range)"
   ]
  },
  {
   "cell_type": "markdown",
   "metadata": {},
   "source": [
    "Let's track that target's motion through the sky for the next ten hours in a plot: "
   ]
  },
  {
   "cell_type": "code",
   "execution_count": 26,
   "metadata": {
    "collapsed": false
   },
   "outputs": [
    {
     "data": {
      "image/png": "[encoded data removed]",
      "text/plain": [
       "<matplotlib.figure.Figure at 0x10d289da0>"
      ]
     },
     "metadata": {},
     "output_type": "display_data"
    }
   ],
   "source": [
    "from astroplan.plots import plot_sky\n",
    "\n",
    "# Plot at times: \n",
    "plot_times = Time.now() + np.linspace(0, 10, 10)*u.hour\n",
    "\n",
    "import warnings\n",
    "with warnings.catch_warnings():\n",
    "    warnings.simplefilter(\"ignore\")\n",
    "    plot_sky(targets[2], observatory, plot_times)"
   ]
  },
  {
   "cell_type": "markdown",
   "metadata": {},
   "source": [
    "For a more detailed run through of astroplan, [here's another notebook to check out](https://gist.github.com/bmorris3/19374760eb11271850ec).\n",
    "\n",
    "\n",
    "# 7) `astropy.io.fits`: Reading and writing FITS files\n",
    "\n",
    "Astronomers (unfortunately) use FITS files a lot, so let's practice using FITS files with astropy. The following command will download a FITS image for us to work with:"
   ]
  },
  {
   "cell_type": "code",
   "execution_count": 27,
   "metadata": {
    "collapsed": false
   },
   "outputs": [
    {
     "name": "stdout",
     "output_type": "stream",
     "text": [
      "Downloading http://staff.washington.edu/bmmorris/images/example.fits [Done]\n"
     ]
    }
   ],
   "source": [
    "from astropy.utils.data import download_file\n",
    "url = 'http://staff.washington.edu/bmmorris/images/example.fits'\n",
    "example_fits_path = download_file(url)"
   ]
  },
  {
   "cell_type": "markdown",
   "metadata": {},
   "source": [
    "We can read in FITS files in two ways. The first is generic, and allows us to see the different extensions. "
   ]
  },
  {
   "cell_type": "code",
   "execution_count": 50,
   "metadata": {
    "collapsed": false
   },
   "outputs": [
    {
     "name": "stdout",
     "output_type": "stream",
     "text": [
      "[<astropy.io.fits.hdu.image.PrimaryHDU object at 0x1171a4ac8>]\n"
     ]
    },
    {
     "data": {
      "image/png": "[encoded data removed]",
      "text/plain": [
       "<matplotlib.figure.Figure at 0x116e90400>"
      ]
     },
     "metadata": {},
     "output_type": "display_data"
    }
   ],
   "source": [
    "from astropy.io import fits\n",
    "\n",
    "hdus = fits.open(example_fits_path)\n",
    "\n",
    "print(hdus)\n",
    "\n",
    "first_hdu = hdus[0]\n",
    "\n",
    "plt.imshow(np.log(first_hdu.data), cmap=plt.cm.binary)\n",
    "plt.title(first_hdu.header['OBJECT'])\n",
    "plt.show()"
   ]
  },
  {
   "cell_type": "markdown",
   "metadata": {},
   "source": [
    "Alternatively, if you know what HDU you want to access, and you want just the header or the data, you can use the following: "
   ]
  },
  {
   "cell_type": "code",
   "execution_count": 38,
   "metadata": {
    "collapsed": true
   },
   "outputs": [],
   "source": [
    "image = fits.getdata(example_fits_path)\n",
    "header = fits.getheader(example_fits_path)"
   ]
  },
  {
   "cell_type": "markdown",
   "metadata": {},
   "source": [
    "You can access particular header cards from the `astropy.io.fits.header.Header` object like a dictionary: "
   ]
  },
  {
   "cell_type": "code",
   "execution_count": 47,
   "metadata": {
    "collapsed": false
   },
   "outputs": [
    {
     "name": "stdout",
     "output_type": "stream",
     "text": [
      "Observation time: 2016-03-29T02:48:57\n",
      "Exposure duration: 120.0 s\n"
     ]
    }
   ],
   "source": [
    "date_obs = header['DATE-OBS']\n",
    "exp_time = header['EXPTIME']\n",
    "\n",
    "print(\"Observation time: {0}\".format(date_obs))\n",
    "print(\"Exposure duration: {0} s\".format(exp_time))"
   ]
  },
  {
   "cell_type": "markdown",
   "metadata": {},
   "source": [
    "To see the available keywords within the header, do:"
   ]
  },
  {
   "cell_type": "code",
   "execution_count": 54,
   "metadata": {
    "collapsed": false
   },
   "outputs": [
    {
     "data": {
      "text/plain": [
       "['SIMPLE',\n",
       " 'BITPIX',\n",
       " 'NAXIS',\n",
       " 'NAXIS1',\n",
       " 'NAXIS2',\n",
       " 'BSCALE',\n",
       " 'BZERO',\n",
       " 'DATE-OBS',\n",
       " 'EXPTIME',\n",
       " 'EXPOSURE']"
      ]
     },
     "execution_count": 54,
     "metadata": {},
     "output_type": "execute_result"
    }
   ],
   "source": [
    "list(header.keys())[:10]"
   ]
  },
  {
   "cell_type": "markdown",
   "metadata": {},
   "source": [
    "If you want to write some results to a FITS file, you can do so like this: "
   ]
  },
  {
   "cell_type": "code",
   "execution_count": 58,
   "metadata": {
    "collapsed": false
   },
   "outputs": [],
   "source": [
    "# Create a 2D, 10 x 10 random number array: \n",
    "example_data = np.random.randn(100).reshape((10, 10)) \n",
    "\n",
    "fits.writeto('example_data.fits', example_data, header=header, clobber=True)"
   ]
  },
  {
   "cell_type": "markdown",
   "metadata": {},
   "source": [
    "***\n",
    "# 8) Reading and writing ascii text tables\n",
    "\n",
    "Perhaps a collaborator will send you some IDL-generated text tables to work with, and you'll want to open it with Python. Sometimes the easiest way to do this will be with `astropy.io.ascii`. Let's create an example table in the cell below: "
   ]
  },
  {
   "cell_type": "code",
   "execution_count": 59,
   "metadata": {
    "collapsed": false
   },
   "outputs": [
    {
     "name": "stdout",
     "output_type": "stream",
     "text": [
      "Writing example_table.txt\n"
     ]
    }
   ],
   "source": [
    "%%writefile example_table.txt\n",
    "a  b  c\n",
    "0  2  2\n",
    "3  4  6\n",
    "34 4  1\n",
    "6  36 5\n",
    "86 7  3"
   ]
  },
  {
   "cell_type": "code",
   "execution_count": 63,
   "metadata": {
    "collapsed": false
   },
   "outputs": [
    {
     "data": {
      "text/html": [
       "&lt;Table length=5&gt;\n",
       "<table id=\"table4683983056\" class=\"table-striped table-bordered table-condensed\">\n",
       "<thead><tr><th>a</th><th>b</th><th>c</th></tr></thead>\n",
       "<thead><tr><th>int64</th><th>int64</th><th>int64</th></tr></thead>\n",
       "<tr><td>0</td><td>2</td><td>2</td></tr>\n",
       "<tr><td>3</td><td>4</td><td>6</td></tr>\n",
       "<tr><td>34</td><td>4</td><td>1</td></tr>\n",
       "<tr><td>6</td><td>36</td><td>5</td></tr>\n",
       "<tr><td>86</td><td>7</td><td>3</td></tr>\n",
       "</table>"
      ],
      "text/plain": [
       "<Table length=5>\n",
       "  a     b     c  \n",
       "int64 int64 int64\n",
       "----- ----- -----\n",
       "    0     2     2\n",
       "    3     4     6\n",
       "   34     4     1\n",
       "    6    36     5\n",
       "   86     7     3"
      ]
     },
     "execution_count": 63,
     "metadata": {},
     "output_type": "execute_result"
    }
   ],
   "source": [
    "from astropy.io import ascii\n",
    "\n",
    "table = ascii.read('example_table.txt')\n",
    "\n",
    "table"
   ]
  },
  {
   "cell_type": "markdown",
   "metadata": {},
   "source": [
    "Well that was easy! We didn't have to specify anything, and it did most of the work. We can now take this `astropy.table.Table` object and make it even more useful, by giving the columns units, etc.:"
   ]
  },
  {
   "cell_type": "code",
   "execution_count": 66,
   "metadata": {
    "collapsed": false
   },
   "outputs": [
    {
     "data": {
      "text/html": [
       "&lt;Table length=5&gt;\n",
       "<table id=\"table4683983056\" class=\"table-striped table-bordered table-condensed\">\n",
       "<thead><tr><th>a</th><th>b</th><th>c</th></tr></thead>\n",
       "<thead><tr><th>kg</th><th></th><th></th></tr></thead>\n",
       "<thead><tr><th>int64</th><th>int64</th><th>int64</th></tr></thead>\n",
       "<tr><td>0</td><td>2</td><td>2</td></tr>\n",
       "<tr><td>3</td><td>4</td><td>6</td></tr>\n",
       "<tr><td>34</td><td>4</td><td>1</td></tr>\n",
       "<tr><td>6</td><td>36</td><td>5</td></tr>\n",
       "<tr><td>86</td><td>7</td><td>3</td></tr>\n",
       "</table>"
      ],
      "text/plain": [
       "<Table length=5>\n",
       "  a     b     c  \n",
       "  kg             \n",
       "int64 int64 int64\n",
       "----- ----- -----\n",
       "    0     2     2\n",
       "    3     4     6\n",
       "   34     4     1\n",
       "    6    36     5\n",
       "   86     7     3"
      ]
     },
     "execution_count": 66,
     "metadata": {},
     "output_type": "execute_result"
    }
   ],
   "source": [
    "table['a'].unit = u.kg\n",
    "\n",
    "table"
   ]
  },
  {
   "cell_type": "markdown",
   "metadata": {},
   "source": [
    "We can write this table out using the [very very flexible `ascii.write` function](http://docs.astropy.org/en/v0.2.1/io/ascii/index.html): "
   ]
  },
  {
   "cell_type": "code",
   "execution_count": 69,
   "metadata": {
    "collapsed": false
   },
   "outputs": [
    {
     "name": "stderr",
     "output_type": "stream",
     "text": [
      "WARNING: AstropyDeprecationWarning: latex_table.tex already exists. Automatically overwriting ASCII files is deprecated. Use the argument 'overwrite=True' in the future. [astropy.io.ascii.ui]\n"
     ]
    }
   ],
   "source": [
    "# Directly output a table in LaTeX format: \n",
    "ascii.write(table, 'latex_table.tex', Writer=ascii.Latex)\n",
    "\n",
    "# Output a CSV file: \n",
    "ascii.write(table, 'csv_table.csv', format='csv')\n",
    "\n",
    "# Write a table with the column names at the top, in a comment\n",
    "ascii.write(table, 'table_with_header.txt', Writer=ascii.CommentedHeader)"
   ]
  },
  {
   "cell_type": "markdown",
   "metadata": {},
   "source": [
    "***\n",
    "\n",
    "# Exercises\n",
    "\n",
    "**1)** Get the light travel time to the sun in minutes, given it's distance *right now* (hint: check out [`astropy.coordinates.get_sun`](http://astropy.readthedocs.org/en/latest/api/astropy.coordinates.get_sun.html?highlight=get_sun#astropy.coordinates.get_sun))."
   ]
  },
  {
   "cell_type": "code",
   "execution_count": 155,
   "metadata": {
    "collapsed": false
   },
   "outputs": [
    {
     "data": {
      "text/latex": [
       "$8.4011602 \\; \\mathrm{min}$"
      ],
      "text/plain": [
       "<Quantity 8.40116020717889 min>"
      ]
     },
     "execution_count": 155,
     "metadata": {},
     "output_type": "execute_result"
    }
   ],
   "source": [
    "from astropy.coordinates import get_sun\n",
    "\n",
    "d = get_sun(Time.now()).distance\n",
    "delta_t = d/c\n",
    "delta_t.to(u.min)"
   ]
  },
  {
   "cell_type": "markdown",
   "metadata": {},
   "source": [
    "**2)** Using your current distance from the Sun in #1, calculate which is greater: the force of gravity between you and the Sun right now, or between you and a bowling ball-sized chunk of neutron star placed 12 kilometers away. \n",
    "\n",
    "Let's assume your mass is 60 kg. Use `astropy.constants` to get the gravitational constant $G$ and the mass of the sun $M_\\odot$. Let's say bowling balls have $r \\sim 22$ cm, and neutron stars have a density of $\\rho \\sim  3.7 \\times 10^{17} $kg m$^{-3}$."
   ]
  },
  {
   "cell_type": "code",
   "execution_count": 156,
   "metadata": {
    "collapsed": false
   },
   "outputs": [
    {
     "data": {
      "text/plain": [
       "array(True, dtype=bool)"
      ]
     },
     "execution_count": 156,
     "metadata": {},
     "output_type": "execute_result"
    }
   ],
   "source": [
    "from astropy.constants import G, M_sun, M_earth\n",
    "\n",
    "# Force of gravity from the Sun\n",
    "m1 = 60*u.kg\n",
    "F_sun = G * m1 * M_sun / d**2\n",
    "\n",
    "# Calculate mass of neutron star ball\n",
    "rho = 3.7e17 * u.kg/u.m**3\n",
    "r_bowlingball = 22 * u.cm\n",
    "volume = 4./3 * np.pi * r_bowlingball**3\n",
    "m_bowlingball = rho * volume\n",
    "\n",
    "# Force of gravity from the neutron star ball\n",
    "d_bowlingball = 12*u.km\n",
    "\n",
    "F_bowlingball = G * m1 * m_bowlingball / d_bowlingball**2\n",
    "\n",
    "# Which is greater?\n",
    "F_bowlingball > F_sun"
   ]
  },
  {
   "cell_type": "markdown",
   "metadata": {
    "collapsed": true
   },
   "source": [
    "**4)** Calculate the Schwarzschild radius in units of solar radii of the Sgr A*, the Milky Way's supermassive black hole with $M = 4.31 \\times 10^6 M_\\odot$, given\n",
    "\n",
    "$$r_\\mathrm{s} = \\frac{2 G M}{c^2}$$\n",
    "\n",
    "and the distance to the galactic center $d_{center} = 7.94$ kpc. Also calculate the angular size of the event horizon on the sky in microarcseconds."
   ]
  },
  {
   "cell_type": "code",
   "execution_count": 169,
   "metadata": {
    "collapsed": false
   },
   "outputs": [
    {
     "name": "stdout",
     "output_type": "stream",
     "text": [
      "Schwarzschild radius = 18.30611297102656 solRad\n"
     ]
    },
    {
     "data": {
      "text/latex": [
       "$21.437905 \\; \\mathrm{\\mu arcsec}$"
      ],
      "text/plain": [
       "<Quantity 21.437905349358125 uarcsec>"
      ]
     },
     "execution_count": 169,
     "metadata": {},
     "output_type": "execute_result"
    }
   ],
   "source": [
    "from astropy.units import R_sun\n",
    "\n",
    "# Schwarzschild radius:\n",
    "r_s = 2 * G * 4.31e6 * M_sun / c**2\n",
    "print(\"Schwarzschild radius = {0}\".format(r_s.to(R_sun)))\n",
    "\n",
    "# Size on the sky given small angle approximation\n",
    "sgr_a_distance = 7940*u.pc\n",
    "angular_diameter = np.arctan(2*r_s / sgr_a_distance)\n",
    "angular_diameter.to(u.uarcsec)"
   ]
  },
  {
   "cell_type": "markdown",
   "metadata": {
    "collapsed": true
   },
   "source": [
    "**5)** Represent your birthday in the following time formats: ISO, JD, MJD and decimal year, all with the UTC time standard (default)."
   ]
  },
  {
   "cell_type": "code",
   "execution_count": 170,
   "metadata": {
    "collapsed": false
   },
   "outputs": [
    {
     "name": "stdout",
     "output_type": "stream",
     "text": [
      "2000-02-21 10:00:00.000\n",
      "2451595.9166666665\n",
      "51595.416666666664\n",
      "2000.1404826958105\n"
     ]
    }
   ],
   "source": [
    "birthday = Time('2000-02-21 10:00:00', format='iso')\n",
    "formats = ['iso', 'jd', 'mjd', 'decimalyear']\n",
    "\n",
    "for fmt in formats:\n",
    "    print(getattr(birthday, fmt))"
   ]
  },
  {
   "cell_type": "markdown",
   "metadata": {
    "collapsed": true
   },
   "source": [
    "**6)** Using the table of Landolt standards which we generated above (`landolt_table`), find the name of the star with the brightest _V_ magnitude (smallest number), and find its position in galactic coordinates (hint: [`SkyCoord` docs](http://docs.astropy.org/en/stable/coordinates/#transformation)). "
   ]
  },
  {
   "cell_type": "code",
   "execution_count": 168,
   "metadata": {
    "collapsed": false
   },
   "outputs": [
    {
     "name": "stdout",
     "output_type": "stream",
     "text": [
      "b'TPHE G' <SkyCoord (Galactic): (l, b) in deg\n",
      "    (313.40783476, -70.33342406)>\n"
     ]
    }
   ],
   "source": [
    "brightest_index = np.argmin(landolt_table['Vmag'])\n",
    "\n",
    "name = landolt_table['Star'][brightest_index]\n",
    "ra = landolt_table['_RAJ2000'].quantity[brightest_index]\n",
    "dec = landolt_table['_DEJ2000'].quantity[brightest_index]\n",
    "\n",
    "print(name, SkyCoord(ra=ra, dec=dec).galactic)"
   ]
  },
  {
   "cell_type": "code",
   "execution_count": null,
   "metadata": {
    "collapsed": true
   },
   "outputs": [],
   "source": []
  }
 ],
 "metadata": {
  "kernelspec": {
   "display_name": "Python 3",
   "language": "python",
   "name": "python3"
  },
  "language_info": {
   "codemirror_mode": {
    "name": "ipython",
    "version": 3
   },
   "file_extension": ".py",
   "mimetype": "text/x-python",
   "name": "python",
   "nbconvert_exporter": "python",
   "pygments_lexer": "ipython3",
   "version": "3.5.2"
  }
 },
 "nbformat": 4,
 "nbformat_minor": 0
}
