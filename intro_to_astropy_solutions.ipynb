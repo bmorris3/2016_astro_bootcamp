{
 "cells": [
  {
   "cell_type": "markdown",
   "metadata": {},
   "source": [
    "# Solutions\n",
    "\n",
    "**1)** Get the light travel time to the sun in minutes, given it's distance *right now* (hint: check out [`astropy.coordinates.get_sun`](http://astropy.readthedocs.org/en/latest/api/astropy.coordinates.get_sun.html?highlight=get_sun#astropy.coordinates.get_sun))."
   ]
  },
  {
   "cell_type": "code",
   "execution_count": 155,
   "metadata": {
    "collapsed": false
   },
   "outputs": [
    {
     "data": {
      "text/latex": [
       "$8.4011602 \\; \\mathrm{min}$"
      ],
      "text/plain": [
       "<Quantity 8.40116020717889 min>"
      ]
     },
     "execution_count": 155,
     "metadata": {},
     "output_type": "execute_result"
    }
   ],
   "source": [
    "from astropy.coordinates import get_sun\n",
    "\n",
    "d = get_sun(Time.now()).distance\n",
    "delta_t = d/c\n",
    "delta_t.to(u.min)"
   ]
  },
  {
   "cell_type": "markdown",
   "metadata": {},
   "source": [
    "**2)** Using your current distance from the Sun in #1, calculate which is greater: the force of gravity between you and the Sun right now, or between you and a bowling ball-sized chunk of neutron star placed 12 kilometers away. \n",
    "\n",
    "Let's assume your mass is 60 kg. Use `astropy.constants` to get the gravitational constant $G$ and the mass of the sun $M_\\odot$. Let's say bowling balls have $r \\sim 22$ cm, and neutron stars have a density of $\\rho \\sim  3.7 \\times 10^{17} $kg m$^{-3}$."
   ]
  },
  {
   "cell_type": "code",
   "execution_count": 156,
   "metadata": {
    "collapsed": false
   },
   "outputs": [
    {
     "data": {
      "text/plain": [
       "array(True, dtype=bool)"
      ]
     },
     "execution_count": 156,
     "metadata": {},
     "output_type": "execute_result"
    }
   ],
   "source": [
    "from astropy.constants import G, M_sun, M_earth\n",
    "\n",
    "# Force of gravity from the Sun\n",
    "m1 = 60*u.kg\n",
    "F_sun = G * m1 * M_sun / d**2\n",
    "\n",
    "# Calculate mass of neutron star ball\n",
    "rho = 3.7e17 * u.kg/u.m**3\n",
    "r_bowlingball = 22 * u.cm\n",
    "volume = 4./3 * np.pi * r_bowlingball**3\n",
    "m_bowlingball = rho * volume\n",
    "\n",
    "# Force of gravity from the neutron star ball\n",
    "d_bowlingball = 12*u.km\n",
    "\n",
    "F_bowlingball = G * m1 * m_bowlingball / d_bowlingball**2\n",
    "\n",
    "# Which is greater?\n",
    "F_bowlingball > F_sun"
   ]
  },
  {
   "cell_type": "markdown",
   "metadata": {
    "collapsed": true
   },
   "source": [
    "**4)** Calculate the Schwarzschild radius in units of solar radii of the Sgr A*, the Milky Way's supermassive black hole with $M = 4.31 \\times 10^6 M_\\odot$, given\n",
    "\n",
    "$$r_\\mathrm{s} = \\frac{2 G M}{c^2}$$\n",
    "\n",
    "and the distance to the galactic center $d_{center} = 7.94$ kpc. Also calculate the angular size of the event horizon on the sky in microarcseconds."
   ]
  },
  {
   "cell_type": "code",
   "execution_count": 169,
   "metadata": {
    "collapsed": false
   },
   "outputs": [
    {
     "name": "stdout",
     "output_type": "stream",
     "text": [
      "Schwarzschild radius = 18.30611297102656 solRad\n"
     ]
    },
    {
     "data": {
      "text/latex": [
       "$21.437905 \\; \\mathrm{\\mu arcsec}$"
      ],
      "text/plain": [
       "<Quantity 21.437905349358125 uarcsec>"
      ]
     },
     "execution_count": 169,
     "metadata": {},
     "output_type": "execute_result"
    }
   ],
   "source": [
    "from astropy.units import R_sun\n",
    "\n",
    "# Schwarzschild radius:\n",
    "r_s = 2 * G * 4.31e6 * M_sun / c**2\n",
    "print(\"Schwarzschild radius = {0}\".format(r_s.to(R_sun)))\n",
    "\n",
    "# Size on the sky given small angle approximation\n",
    "sgr_a_distance = 7940*u.pc\n",
    "angular_diameter = np.arctan(2*r_s / sgr_a_distance)\n",
    "angular_diameter.to(u.uarcsec)"
   ]
  },
  {
   "cell_type": "markdown",
   "metadata": {
    "collapsed": true
   },
   "source": [
    "**5)** Represent your birthday in the following time formats: ISO, JD, MJD and decimal year, all with the UTC time standard (default)."
   ]
  },
  {
   "cell_type": "code",
   "execution_count": 170,
   "metadata": {
    "collapsed": false
   },
   "outputs": [
    {
     "name": "stdout",
     "output_type": "stream",
     "text": [
      "2000-02-21 10:00:00.000\n",
      "2451595.9166666665\n",
      "51595.416666666664\n",
      "2000.1404826958105\n"
     ]
    }
   ],
   "source": [
    "birthday = Time('2000-02-21 10:00:00', format='iso')\n",
    "formats = ['iso', 'jd', 'mjd', 'decimalyear']\n",
    "\n",
    "for fmt in formats:\n",
    "    print(getattr(birthday, fmt))"
   ]
  },
  {
   "cell_type": "markdown",
   "metadata": {
    "collapsed": true
   },
   "source": [
    "**6)** Using the table of Landolt standards which we generated above (`landolt_table`), find the name of the star with the brightest _V_ magnitude (smallest number), and find its position in galactic coordinates (hint: [`SkyCoord` docs](http://docs.astropy.org/en/stable/coordinates/#transformation)). "
   ]
  },
  {
   "cell_type": "code",
   "execution_count": 168,
   "metadata": {
    "collapsed": false
   },
   "outputs": [
    {
     "name": "stdout",
     "output_type": "stream",
     "text": [
      "b'TPHE G' <SkyCoord (Galactic): (l, b) in deg\n",
      "    (313.40783476, -70.33342406)>\n"
     ]
    }
   ],
   "source": [
    "brightest_index = np.argmin(landolt_table['Vmag'])\n",
    "\n",
    "name = landolt_table['Star'][brightest_index]\n",
    "ra = landolt_table['_RAJ2000'].quantity[brightest_index]\n",
    "dec = landolt_table['_DEJ2000'].quantity[brightest_index]\n",
    "\n",
    "print(name, SkyCoord(ra=ra, dec=dec).galactic)"
   ]
  },
  {
   "cell_type": "code",
   "execution_count": null,
   "metadata": {
    "collapsed": true
   },
   "outputs": [],
   "source": []
  }
 ],
 "metadata": {
  "kernelspec": {
   "display_name": "Python 3",
   "language": "python",
   "name": "python3"
  },
  "language_info": {
   "codemirror_mode": {
    "name": "ipython",
    "version": 3
   },
   "file_extension": ".py",
   "mimetype": "text/x-python",
   "name": "python",
   "nbconvert_exporter": "python",
   "pygments_lexer": "ipython3",
   "version": "3.5.2"
  }
 },
 "nbformat": 4,
 "nbformat_minor": 0
}
